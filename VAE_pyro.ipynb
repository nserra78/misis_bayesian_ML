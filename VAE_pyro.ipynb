{
 "cells": [
  {
   "cell_type": "markdown",
   "metadata": {},
   "source": [
    "### Make imports"
   ]
  },
  {
   "cell_type": "code",
   "execution_count": 1,
   "metadata": {},
   "outputs": [],
   "source": [
    "import torch\n",
    "import torch.nn as nn\n",
    "import torchvision\n",
    "import torchvision.datasets as datasets\n",
    "from torch.utils.data import DataLoader\n",
    "from torchvision import transforms"
   ]
  },
  {
   "cell_type": "code",
   "execution_count": 2,
   "metadata": {},
   "outputs": [],
   "source": [
    "import pyro\n",
    "from pyro.infer import SVI, Trace_ELBO\n",
    "from pyro.optim import Adam\n",
    "import pyro.distributions as dist"
   ]
  },
  {
   "cell_type": "code",
   "execution_count": 3,
   "metadata": {},
   "outputs": [],
   "source": [
    "import numpy as np\n",
    "import matplotlib.pyplot as plt"
   ]
  },
  {
   "cell_type": "code",
   "execution_count": 4,
   "metadata": {},
   "outputs": [],
   "source": [
    "from BayesianNN.VAE import Encoder, Decoder, VAE"
   ]
  },
  {
   "cell_type": "code",
   "execution_count": 5,
   "metadata": {},
   "outputs": [],
   "source": [
    "torch.set_default_tensor_type('torch.cuda.FloatTensor')"
   ]
  },
  {
   "cell_type": "markdown",
   "metadata": {},
   "source": [
    "### Load data"
   ]
  },
  {
   "cell_type": "code",
   "execution_count": 6,
   "metadata": {},
   "outputs": [],
   "source": [
    "batch_size=1024"
   ]
  },
  {
   "cell_type": "code",
   "execution_count": 7,
   "metadata": {},
   "outputs": [],
   "source": [
    "trans = transforms.ToTensor()"
   ]
  },
  {
   "cell_type": "code",
   "execution_count": 8,
   "metadata": {},
   "outputs": [],
   "source": [
    "mnist_train = datasets.MNIST(\"./data/\", train=True, transform=trans)"
   ]
  },
  {
   "cell_type": "code",
   "execution_count": 9,
   "metadata": {},
   "outputs": [],
   "source": [
    "train_loader = DataLoader(mnist_train, batch_size=batch_size, shuffle=True)"
   ]
  },
  {
   "cell_type": "code",
   "execution_count": 10,
   "metadata": {},
   "outputs": [],
   "source": [
    "mnist_test = datasets.MNIST(\"./data/\", train=False, transform=trans)"
   ]
  },
  {
   "cell_type": "code",
   "execution_count": 11,
   "metadata": {},
   "outputs": [],
   "source": [
    "test_loader = DataLoader(mnist_test, batch_size=batch_size, shuffle=True)"
   ]
  },
  {
   "cell_type": "code",
   "execution_count": 12,
   "metadata": {},
   "outputs": [],
   "source": [
    "iterator = enumerate(test_loader)"
   ]
  },
  {
   "cell_type": "code",
   "execution_count": 13,
   "metadata": {},
   "outputs": [],
   "source": [
    "batch_id, (data, label) = next(iterator)"
   ]
  },
  {
   "cell_type": "code",
   "execution_count": 16,
   "metadata": {},
   "outputs": [
    {
     "data": {
      "text/plain": [
       "<matplotlib.image.AxesImage at 0x7f9d2c6c6ac0>"
      ]
     },
     "execution_count": 16,
     "metadata": {},
     "output_type": "execute_result"
    },
    {
     "data": {
      "image/png": "[encoded data removed]",
      "text/plain": [
       "<Figure size 432x288 with 1 Axes>"
      ]
     },
     "metadata": {
      "needs_background": "light"
     },
     "output_type": "display_data"
    }
   ],
   "source": [
    "i = np.random.choice(batch_size)\n",
    "plt.imshow(data[i].reshape(28, 28))"
   ]
  },
  {
   "cell_type": "markdown",
   "metadata": {},
   "source": [
    "### instantiate the VAE"
   ]
  },
  {
   "cell_type": "code",
   "execution_count": 15,
   "metadata": {},
   "outputs": [],
   "source": [
    "encoder = Encoder(layers=[28*28, 128], z_dim=2)"
   ]
  },
  {
   "cell_type": "code",
   "execution_count": 16,
   "metadata": {},
   "outputs": [],
   "source": [
    "decoder = Decoder(layers=[2, 128], output_dim=28*28)"
   ]
  },
  {
   "cell_type": "code",
   "execution_count": 17,
   "metadata": {},
   "outputs": [],
   "source": [
    "vae = VAE(encoder=encoder, decoder=decoder)"
   ]
  },
  {
   "cell_type": "markdown",
   "metadata": {},
   "source": [
    "### Prepare for Variational inference"
   ]
  },
  {
   "cell_type": "code",
   "execution_count": 18,
   "metadata": {},
   "outputs": [],
   "source": [
    "optim = Adam({\"lr\":0.0005})"
   ]
  },
  {
   "cell_type": "code",
   "execution_count": 19,
   "metadata": {},
   "outputs": [],
   "source": [
    "svi = SVI(model=vae.model, guide=vae.guide, optim=optim, loss=Trace_ELBO())"
   ]
  },
  {
   "cell_type": "markdown",
   "metadata": {},
   "source": [
    "### Loop and optimization"
   ]
  },
  {
   "cell_type": "code",
   "execution_count": 20,
   "metadata": {},
   "outputs": [
    {
     "data": {
      "text/plain": [
       "1024"
      ]
     },
     "execution_count": 20,
     "metadata": {},
     "output_type": "execute_result"
    }
   ],
   "source": [
    "train_loader.batch_size"
   ]
  },
  {
   "cell_type": "code",
   "execution_count": 21,
   "metadata": {},
   "outputs": [],
   "source": [
    "epochs = 100\n",
    "N = len(train_loader)*train_loader.batch_size"
   ]
  },
  {
   "cell_type": "code",
   "execution_count": 22,
   "metadata": {},
   "outputs": [
    {
     "name": "stdout",
     "output_type": "stream",
     "text": [
      "Epoch: 0 - Loss: 322.16979409678504\n",
      "Epoch: 5 - Loss: 187.90034320142314\n",
      "Epoch: 10 - Loss: 179.58841702056327\n",
      "Epoch: 15 - Loss: 175.5456661195258\n",
      "Epoch: 20 - Loss: 173.36152224293198\n",
      "Epoch: 25 - Loss: 172.11645412697632\n",
      "Epoch: 30 - Loss: 171.209641574803\n",
      "Epoch: 35 - Loss: 170.30383270776875\n",
      "Epoch: 40 - Loss: 169.2857401956946\n",
      "Epoch: 45 - Loss: 168.37571017822975\n",
      "Epoch: 50 - Loss: 167.6156665056439\n",
      "Epoch: 55 - Loss: 166.9770120210567\n",
      "Epoch: 60 - Loss: 166.41135341131073\n",
      "Epoch: 65 - Loss: 165.88237521304922\n",
      "Epoch: 70 - Loss: 165.36269731844888\n",
      "Epoch: 75 - Loss: 164.8773994223546\n",
      "Epoch: 80 - Loss: 164.38074253777333\n",
      "Epoch: 85 - Loss: 163.92730621968283\n",
      "Epoch: 90 - Loss: 163.47010730484783\n",
      "Epoch: 95 - Loss: 163.0601147089974\n"
     ]
    }
   ],
   "source": [
    "for iep in range(epochs):\n",
    "    ### remember, step passes to model and guide the same arguments\n",
    "    loss = 0.\n",
    "    for batch_id, (data, label) in enumerate(train_loader):\n",
    "        x = data.view(-1, 28*28).cuda()\n",
    "        loss += svi.step(x, x)/float(N)\n",
    "    \n",
    "    if iep%5==0:\n",
    "        print(\"Epoch: {} - Loss: {}\".format(iep, loss))\n",
    "    \n",
    "    "
   ]
  },
  {
   "cell_type": "code",
   "execution_count": 23,
   "metadata": {},
   "outputs": [],
   "source": [
    "#torch.save(vae.state_dict(), \"./vae_weights_2D.pkl\")"
   ]
  },
  {
   "cell_type": "code",
   "execution_count": 33,
   "metadata": {},
   "outputs": [
    {
     "data": {
      "text/plain": [
       "VAE(\n",
       "  (encoder): Encoder(\n",
       "    (activation): Softplus(beta=1, threshold=20)\n",
       "    (layer0): Linear(in_features=784, out_features=400, bias=True)\n",
       "    (mean): Linear(in_features=400, out_features=50, bias=True)\n",
       "    (log_var): Linear(in_features=400, out_features=50, bias=True)\n",
       "  )\n",
       "  (decoder): Decoder(\n",
       "    (activation): Softplus(beta=1, threshold=20)\n",
       "    (out_activation): Sigmoid()\n",
       "    (layer0): Linear(in_features=50, out_features=400, bias=True)\n",
       "    (output): Linear(in_features=400, out_features=784, bias=True)\n",
       "  )\n",
       ")"
      ]
     },
     "execution_count": 33,
     "metadata": {},
     "output_type": "execute_result"
    }
   ],
   "source": [
    "vae.requires_grad_(False)"
   ]
  },
  {
   "cell_type": "code",
   "execution_count": 34,
   "metadata": {},
   "outputs": [],
   "source": [
    "from pyro.infer import Predictive"
   ]
  },
  {
   "cell_type": "code",
   "execution_count": 35,
   "metadata": {},
   "outputs": [],
   "source": [
    "batch_id, (data, label) = next(iterator)"
   ]
  },
  {
   "cell_type": "code",
   "execution_count": 36,
   "metadata": {},
   "outputs": [],
   "source": [
    "prediction = Predictive(model = vae.model, guide=vae.guide, num_samples=1 , return_sites=[\"obs\", \"_RETURN\"])"
   ]
  },
  {
   "cell_type": "code",
   "execution_count": 37,
   "metadata": {},
   "outputs": [
    {
     "name": "stderr",
     "output_type": "stream",
     "text": [
      "/disk/users/nserra/anaconda3/envs/tf2-gpu/lib/python3.8/site-packages/pyro/primitives.py:360: UserWarning: layer0.weight was not registered in the param store because requires_grad=False\n",
      "  warnings.warn(\"{} was not registered in the param store because\".format(param_name) +\n",
      "/disk/users/nserra/anaconda3/envs/tf2-gpu/lib/python3.8/site-packages/pyro/primitives.py:360: UserWarning: layer0.bias was not registered in the param store because requires_grad=False\n",
      "  warnings.warn(\"{} was not registered in the param store because\".format(param_name) +\n",
      "/disk/users/nserra/anaconda3/envs/tf2-gpu/lib/python3.8/site-packages/pyro/primitives.py:360: UserWarning: mean.weight was not registered in the param store because requires_grad=False\n",
      "  warnings.warn(\"{} was not registered in the param store because\".format(param_name) +\n",
      "/disk/users/nserra/anaconda3/envs/tf2-gpu/lib/python3.8/site-packages/pyro/primitives.py:360: UserWarning: mean.bias was not registered in the param store because requires_grad=False\n",
      "  warnings.warn(\"{} was not registered in the param store because\".format(param_name) +\n",
      "/disk/users/nserra/anaconda3/envs/tf2-gpu/lib/python3.8/site-packages/pyro/primitives.py:360: UserWarning: log_var.weight was not registered in the param store because requires_grad=False\n",
      "  warnings.warn(\"{} was not registered in the param store because\".format(param_name) +\n",
      "/disk/users/nserra/anaconda3/envs/tf2-gpu/lib/python3.8/site-packages/pyro/primitives.py:360: UserWarning: log_var.bias was not registered in the param store because requires_grad=False\n",
      "  warnings.warn(\"{} was not registered in the param store because\".format(param_name) +\n",
      "/disk/users/nserra/anaconda3/envs/tf2-gpu/lib/python3.8/site-packages/pyro/primitives.py:360: UserWarning: output.weight was not registered in the param store because requires_grad=False\n",
      "  warnings.warn(\"{} was not registered in the param store because\".format(param_name) +\n",
      "/disk/users/nserra/anaconda3/envs/tf2-gpu/lib/python3.8/site-packages/pyro/primitives.py:360: UserWarning: output.bias was not registered in the param store because requires_grad=False\n",
      "  warnings.warn(\"{} was not registered in the param store because\".format(param_name) +\n"
     ]
    }
   ],
   "source": [
    "pred = prediction(data.view(-1, 28*28).cuda())"
   ]
  },
  {
   "cell_type": "code",
   "execution_count": 38,
   "metadata": {},
   "outputs": [],
   "source": [
    "x = pred[\"obs\"]"
   ]
  },
  {
   "cell_type": "code",
   "execution_count": 39,
   "metadata": {},
   "outputs": [
    {
     "data": {
      "text/plain": [
       "dict_keys(['obs', '_RETURN'])"
      ]
     },
     "execution_count": 39,
     "metadata": {},
     "output_type": "execute_result"
    }
   ],
   "source": [
    "pred.keys()"
   ]
  },
  {
   "cell_type": "code",
   "execution_count": 40,
   "metadata": {},
   "outputs": [
    {
     "data": {
      "text/plain": [
       "torch.Size([1, 128, 784])"
      ]
     },
     "execution_count": 40,
     "metadata": {},
     "output_type": "execute_result"
    }
   ],
   "source": [
    "x.shape"
   ]
  },
  {
   "cell_type": "code",
   "execution_count": 41,
   "metadata": {},
   "outputs": [],
   "source": [
    "i = np.random.choice(90)\n",
    "a = x[0, i].view(28, 28).cpu()"
   ]
  },
  {
   "cell_type": "code",
   "execution_count": 42,
   "metadata": {},
   "outputs": [
    {
     "name": "stdout",
     "output_type": "stream",
     "text": [
      "0\n"
     ]
    }
   ],
   "source": [
    "print(i)"
   ]
  },
  {
   "cell_type": "code",
   "execution_count": 43,
   "metadata": {},
   "outputs": [],
   "source": [
    "b = data.cpu()"
   ]
  },
  {
   "cell_type": "code",
   "execution_count": 44,
   "metadata": {},
   "outputs": [
    {
     "data": {
      "text/plain": [
       "torch.Size([128, 1, 28, 28])"
      ]
     },
     "execution_count": 44,
     "metadata": {},
     "output_type": "execute_result"
    }
   ],
   "source": [
    "b.shape"
   ]
  },
  {
   "cell_type": "code",
   "execution_count": 45,
   "metadata": {},
   "outputs": [
    {
     "data": {
      "text/plain": [
       "<matplotlib.image.AxesImage at 0x7f0c2d2246a0>"
      ]
     },
     "execution_count": 45,
     "metadata": {},
     "output_type": "execute_result"
    },
    {
     "data": {
      "image/png": "[encoded data removed]",
      "text/plain": [
       "<Figure size 432x288 with 1 Axes>"
      ]
     },
     "metadata": {
      "needs_background": "light"
     },
     "output_type": "display_data"
    }
   ],
   "source": [
    "plt.imshow(b[i, 0])"
   ]
  },
  {
   "cell_type": "code",
   "execution_count": 46,
   "metadata": {},
   "outputs": [
    {
     "data": {
      "text/plain": [
       "<matplotlib.image.AxesImage at 0x7f0c2cef3fd0>"
      ]
     },
     "execution_count": 46,
     "metadata": {},
     "output_type": "execute_result"
    },
    {
     "data": {
      "image/png": "[encoded data removed]",
      "text/plain": [
       "<Figure size 432x288 with 1 Axes>"
      ]
     },
     "metadata": {
      "needs_background": "light"
     },
     "output_type": "display_data"
    }
   ],
   "source": [
    "plt.imshow(a)"
   ]
  },
  {
   "cell_type": "code",
   "execution_count": 67,
   "metadata": {},
   "outputs": [],
   "source": [
    "reco = vae.reconstruction(data.view(-1, 28*28).cuda())"
   ]
  },
  {
   "cell_type": "code",
   "execution_count": 68,
   "metadata": {},
   "outputs": [],
   "source": [
    "x = reco.view(-1, 28, 28).cpu()"
   ]
  },
  {
   "cell_type": "code",
   "execution_count": 74,
   "metadata": {},
   "outputs": [
    {
     "data": {
      "text/plain": [
       "<matplotlib.image.AxesImage at 0x7f0c2c916370>"
      ]
     },
     "execution_count": 74,
     "metadata": {},
     "output_type": "execute_result"
    },
    {
     "data": {
      "image/png": "[encoded data removed]",
      "text/plain": [
       "<Figure size 432x288 with 1 Axes>"
      ]
     },
     "metadata": {
      "needs_background": "light"
     },
     "output_type": "display_data"
    }
   ],
   "source": [
    "i = np.random.choice(x.shape[0])\n",
    "plt.imshow(x[i])"
   ]
  },
  {
   "cell_type": "markdown",
   "metadata": {},
   "source": [
    "### Generating from zeros"
   ]
  },
  {
   "cell_type": "code",
   "execution_count": null,
   "metadata": {},
   "outputs": [],
   "source": [
    "zeros = torch.zeros([256, 784])"
   ]
  },
  {
   "cell_type": "code",
   "execution_count": null,
   "metadata": {},
   "outputs": [],
   "source": [
    "yhat = vae.model(zeros)"
   ]
  },
  {
   "cell_type": "code",
   "execution_count": null,
   "metadata": {},
   "outputs": [],
   "source": [
    "img = yhat.view(-1, 28, 28).cpu().data.numpy()"
   ]
  },
  {
   "cell_type": "code",
   "execution_count": null,
   "metadata": {},
   "outputs": [],
   "source": [
    "i = np.random.choice(256)\n",
    "plt.imshow(img[i])"
   ]
  },
  {
   "cell_type": "code",
   "execution_count": null,
   "metadata": {},
   "outputs": [],
   "source": []
  },
  {
   "cell_type": "code",
   "execution_count": null,
   "metadata": {},
   "outputs": [],
   "source": []
  }
 ],
 "metadata": {
  "kernelspec": {
   "display_name": "Python 3",
   "language": "python",
   "name": "python3"
  },
  "language_info": {
   "codemirror_mode": {
    "name": "ipython",
    "version": 3
   },
   "file_extension": ".py",
   "mimetype": "text/x-python",
   "name": "python",
   "nbconvert_exporter": "python",
   "pygments_lexer": "ipython3",
   "version": "3.8.3"
  }
 },
 "nbformat": 4,
 "nbformat_minor": 4
}
