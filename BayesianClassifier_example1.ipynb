{
 "cells": [
  {
   "cell_type": "markdown",
   "metadata": {},
   "source": [
    "### I make all imports"
   ]
  },
  {
   "cell_type": "code",
   "execution_count": 1,
   "metadata": {},
   "outputs": [],
   "source": [
    "import torch\n",
    "import torch.nn as nn\n",
    "import torch.nn.functional as F"
   ]
  },
  {
   "cell_type": "code",
   "execution_count": 2,
   "metadata": {},
   "outputs": [],
   "source": [
    "import pyro\n",
    "import pyro.distributions as dist\n",
    "from pyro.optim import Adam\n",
    "from pyro.infer import SVI, Trace_ELBO\n",
    "from pyro.nn import PyroModule\n",
    "from pyro.infer.autoguide import AutoDiagonalNormal\n",
    "from pyro.nn import PyroSample"
   ]
  },
  {
   "cell_type": "code",
   "execution_count": 3,
   "metadata": {},
   "outputs": [],
   "source": [
    "import matplotlib.pyplot as plt"
   ]
  },
  {
   "cell_type": "code",
   "execution_count": 4,
   "metadata": {},
   "outputs": [],
   "source": [
    "import numpy as np"
   ]
  },
  {
   "cell_type": "code",
   "execution_count": 5,
   "metadata": {},
   "outputs": [],
   "source": [
    "from sklearn.datasets import make_moons"
   ]
  },
  {
   "cell_type": "markdown",
   "metadata": {},
   "source": [
    "### I dowload all datasets"
   ]
  },
  {
   "cell_type": "code",
   "execution_count": 12,
   "metadata": {},
   "outputs": [],
   "source": [
    "x, y = make_moons(n_samples=1000, noise=0.4)"
   ]
  },
  {
   "cell_type": "code",
   "execution_count": 13,
   "metadata": {},
   "outputs": [],
   "source": [
    "x = torch.from_numpy(x.astype(np.float32))\n",
    "y = torch.from_numpy(y.astype(np.float32))"
   ]
  },
  {
   "cell_type": "code",
   "execution_count": 14,
   "metadata": {},
   "outputs": [
    {
     "data": {
      "text/plain": [
       "<matplotlib.collections.PathCollection at 0x7f7b740fee20>"
      ]
     },
     "execution_count": 14,
     "metadata": {},
     "output_type": "execute_result"
    },
    {
     "data": {
      "image/png": "[encoded data removed]",
      "text/plain": [
       "<Figure size 432x288 with 1 Axes>"
      ]
     },
     "metadata": {
      "needs_background": "light"
     },
     "output_type": "display_data"
    }
   ],
   "source": [
    "plt.scatter(x[y>0][:, 0], x[y>0][:, 1], color=\"red\")\n",
    "plt.scatter(x[y<1][:, 0], x[y<1][:, 1], color=\"blue\")"
   ]
  },
  {
   "cell_type": "markdown",
   "metadata": {},
   "source": [
    "### Now I create a probabilitsti model"
   ]
  },
  {
   "cell_type": "markdown",
   "metadata": {},
   "source": [
    "- Notice that I extend PyroModule, which in turn extends torch.nn.Module\n",
    "- I use PyroModule[nn.Linear] which allows to make a prob layers"
   ]
  },
  {
   "cell_type": "code",
   "execution_count": 15,
   "metadata": {},
   "outputs": [],
   "source": [
    "class BayesianNet(PyroModule):\n",
    "    def __init__(self, layers):\n",
    "        super(BayesianNet, self).__init__()\n",
    "        self.num_layers = layers\n",
    "        self.layers = []\n",
    "        \n",
    "        for i in range(len(self.num_layers)-2):   \n",
    "            layer = PyroModule[nn.Linear](self.num_layers[i], self.num_layers[i+1])\n",
    "            layer.weight = PyroSample(dist.Normal(0., 1).expand([self.num_layers[i+1], self.num_layers[i]]).to_event(2))\n",
    "            layer.bias = PyroSample(dist.Normal(0., 1).expand([self.num_layers[i+1]]).to_event(1))\n",
    "            self.layers.append(layer)\n",
    "            \n",
    "        ### I need to put the output layer apart because the activation function is in general different\n",
    "        self.output_layer = PyroModule[nn.Linear](self.num_layers[-2], self.num_layers[-1])\n",
    "        self.output_layer.weight =  PyroSample(dist.Normal(0., 1).expand([self.num_layers[-1], self.num_layers[-2]]).to_event(2))\n",
    "        self.output_layer.bias = PyroSample(dist.Normal(0., 1).expand([self.num_layers[-1]]).to_event(1))\n",
    "\n",
    "\n",
    "            \n",
    "    def forward(self, x, y=None):\n",
    "        out = x\n",
    "        for i in range(len(self.layers)):   \n",
    "            out = self.layers[i](out)\n",
    "            out = F.relu(out)\n",
    "            \n",
    "        #### The layers before give the mean\n",
    "        logit = self.output_layer(out).squeeze(-1)\n",
    "        \n",
    "        \n",
    "        ## in case I provide a y I want to condition on data\n",
    "        with pyro.plate(\"data\", x.shape[0]):\n",
    "            obs=pyro.sample(\"obs\", dist.Bernoulli(logits=logit), obs=y)\n",
    "        \n",
    "        return torch.sigmoid(logit)\n",
    "        "
   ]
  },
  {
   "cell_type": "markdown",
   "metadata": {},
   "source": [
    "### Now I create the model and the guide"
   ]
  },
  {
   "cell_type": "code",
   "execution_count": 16,
   "metadata": {},
   "outputs": [],
   "source": [
    "model = BayesianNet([2, 10, 1])"
   ]
  },
  {
   "cell_type": "code",
   "execution_count": 17,
   "metadata": {},
   "outputs": [],
   "source": [
    "guide = AutoDiagonalNormal(model)"
   ]
  },
  {
   "cell_type": "code",
   "execution_count": 18,
   "metadata": {},
   "outputs": [],
   "source": [
    "optim = Adam({\"lr\":0.01})"
   ]
  },
  {
   "cell_type": "code",
   "execution_count": 19,
   "metadata": {},
   "outputs": [],
   "source": [
    "svi = SVI(model, guide, optim=optim, loss=Trace_ELBO())"
   ]
  },
  {
   "cell_type": "code",
   "execution_count": 20,
   "metadata": {},
   "outputs": [],
   "source": [
    "epochs = 10000"
   ]
  },
  {
   "cell_type": "code",
   "execution_count": 21,
   "metadata": {},
   "outputs": [
    {
     "name": "stdout",
     "output_type": "stream",
     "text": [
      "loss:  750.7851405143738\n",
      "loss:  434.41373097896576\n",
      "loss:  431.5043029785156\n",
      "loss:  421.2393282651901\n",
      "loss:  418.7300981283188\n",
      "loss:  422.13898277282715\n",
      "loss:  419.23735105991364\n",
      "loss:  417.4261951446533\n",
      "loss:  426.8648874759674\n",
      "loss:  422.4546768665314\n",
      "loss:  416.4094443321228\n",
      "loss:  401.6975724697113\n",
      "loss:  410.79229950904846\n",
      "loss:  398.27391397953033\n",
      "loss:  391.8733458518982\n",
      "loss:  407.7106302976608\n",
      "loss:  391.69763910770416\n",
      "loss:  394.43161046504974\n",
      "loss:  375.9248490333557\n",
      "loss:  394.92998188734055\n",
      "loss:  371.34467899799347\n",
      "loss:  384.68381547927856\n",
      "loss:  386.35168623924255\n",
      "loss:  373.2204316854477\n",
      "loss:  373.80278289318085\n",
      "loss:  393.55834913253784\n",
      "loss:  378.87640833854675\n",
      "loss:  371.85608291625977\n",
      "loss:  373.0295089483261\n",
      "loss:  377.1809446811676\n",
      "loss:  371.86499214172363\n",
      "loss:  375.45564246177673\n",
      "loss:  385.81095719337463\n",
      "loss:  373.21375501155853\n",
      "loss:  380.019739151001\n",
      "loss:  371.7955937385559\n",
      "loss:  377.2485752105713\n",
      "loss:  370.53560066223145\n",
      "loss:  370.0053679943085\n",
      "loss:  371.1768763065338\n",
      "loss:  379.6562829017639\n",
      "loss:  376.23423051834106\n",
      "loss:  386.35360836982727\n",
      "loss:  463.1679058074951\n",
      "loss:  371.1236125230789\n",
      "loss:  377.16453218460083\n",
      "loss:  373.0960725545883\n",
      "loss:  375.1500095129013\n",
      "loss:  375.6570346355438\n",
      "loss:  381.7938154935837\n",
      "loss:  374.11828565597534\n",
      "loss:  371.8638365268707\n",
      "loss:  370.64939999580383\n",
      "loss:  380.8983151912689\n",
      "loss:  382.6675571203232\n",
      "loss:  374.39192736148834\n",
      "loss:  385.7999082803726\n",
      "loss:  382.0071384906769\n",
      "loss:  369.70038056373596\n",
      "loss:  365.00961232185364\n",
      "loss:  382.71611535549164\n",
      "loss:  381.93649911880493\n",
      "loss:  374.108381152153\n",
      "loss:  372.45769715309143\n",
      "loss:  375.69010055065155\n",
      "loss:  384.667396903038\n",
      "loss:  375.9431256055832\n",
      "loss:  377.26329159736633\n",
      "loss:  372.57837522029877\n",
      "loss:  379.2354416847229\n",
      "loss:  371.05055022239685\n",
      "loss:  372.63792634010315\n",
      "loss:  383.7306776046753\n",
      "loss:  375.49926805496216\n",
      "loss:  378.07289147377014\n",
      "loss:  372.1792814731598\n",
      "loss:  368.370503783226\n",
      "loss:  389.98033106327057\n",
      "loss:  375.61649990081787\n",
      "loss:  368.3669192790985\n",
      "loss:  375.35592222213745\n",
      "loss:  376.03130066394806\n",
      "loss:  370.8671964406967\n",
      "loss:  376.77428102493286\n",
      "loss:  372.69854712486267\n",
      "loss:  365.4847537279129\n",
      "loss:  389.2905344963074\n",
      "loss:  373.3771526813507\n",
      "loss:  393.8564428091049\n",
      "loss:  372.82556533813477\n",
      "loss:  373.2023038864136\n",
      "loss:  382.49920547008514\n",
      "loss:  379.57453966140747\n",
      "loss:  392.7736395597458\n",
      "loss:  390.2238222360611\n",
      "loss:  390.13739132881165\n",
      "loss:  385.03576385974884\n",
      "loss:  373.5566532611847\n",
      "loss:  379.2166087627411\n",
      "loss:  379.88723158836365\n"
     ]
    }
   ],
   "source": [
    "for j in range(epochs):\n",
    "    \n",
    "    loss = svi.step(x, y)\n",
    "    if j%100==0:\n",
    "        print(\"loss:  {}\".format(loss))\n",
    "    \n",
    "    "
   ]
  },
  {
   "cell_type": "code",
   "execution_count": 22,
   "metadata": {},
   "outputs": [
    {
     "name": "stdout",
     "output_type": "stream",
     "text": [
      "AutoDiagonalNormal.loc Parameter containing:\n",
      "tensor([-2.5412, -0.5525, -0.7767, -1.4348,  2.0016, -0.4872, -0.3443, -0.2222,\n",
      "        -0.1992, -0.3486, -0.3028, -0.1923, -0.2408,  0.0170, -0.4059,  1.6117,\n",
      "        -0.3433, -0.1980, -0.2256, -0.2293, -0.2744,  1.6312, -1.8592, -0.9302,\n",
      "        -0.8550, -0.9599, -0.8834,  0.0595, -0.9968, -1.0190, -2.1836,  1.7591,\n",
      "         2.2904,  0.0850, -0.0737, -0.0440,  0.1695, -0.9079, -0.0728, -0.0377,\n",
      "        -1.3122]) torch.Size([41])\n",
      "AutoDiagonalNormal.scale tensor([0.1845, 0.2175, 0.0714, 0.1206, 0.0556, 0.1655, 0.6143, 0.6975, 0.6294,\n",
      "        0.7628, 0.6080, 0.8115, 0.6102, 0.7309, 0.1962, 0.2391, 0.5927, 0.7017,\n",
      "        0.6260, 0.7374, 0.1017, 0.0610, 0.0767, 0.4701, 0.5362, 0.5606, 0.5616,\n",
      "        0.1409, 0.5864, 0.5867, 0.1671, 0.0711, 0.2083, 0.4173, 0.4544, 0.4868,\n",
      "        0.4877, 0.1178, 0.4649, 0.5323, 0.0910]) torch.Size([41])\n"
     ]
    }
   ],
   "source": [
    "guide.requires_grad_(False)\n",
    "\n",
    "for name, value in pyro.get_param_store().items():\n",
    "    print(name, pyro.param(name),  pyro.param(name).shape)"
   ]
  },
  {
   "cell_type": "code",
   "execution_count": 23,
   "metadata": {},
   "outputs": [
    {
     "data": {
      "text/plain": [
       "{'weight': [tensor([[-2.6656, -0.6992],\n",
       "          [-0.8249, -1.5161],\n",
       "          [ 1.9641, -0.5988],\n",
       "          [-0.7587, -0.6927],\n",
       "          [-0.6237, -0.8631],\n",
       "          [-0.7129, -0.7396],\n",
       "          [-0.6525, -0.4760],\n",
       "          [-0.5382,  1.4504],\n",
       "          [-0.7431, -0.6714],\n",
       "          [-0.6479, -0.7267]]),\n",
       "  tensor([[-2.5412, -0.5525],\n",
       "          [-0.7767, -1.4348],\n",
       "          [ 2.0016, -0.4872],\n",
       "          [-0.3443, -0.2222],\n",
       "          [-0.1992, -0.3486],\n",
       "          [-0.3028, -0.1923],\n",
       "          [-0.2408,  0.0170],\n",
       "          [-0.4059,  1.6117],\n",
       "          [-0.3433, -0.1980],\n",
       "          [-0.2256, -0.2293]]),\n",
       "  tensor([[-2.4167, -0.4058],\n",
       "          [-0.7285, -1.3535],\n",
       "          [ 2.0392, -0.3756],\n",
       "          [ 0.0700,  0.2483],\n",
       "          [ 0.2253,  0.1659],\n",
       "          [ 0.1073,  0.3551],\n",
       "          [ 0.1708,  0.5101],\n",
       "          [-0.2736,  1.7730],\n",
       "          [ 0.0564,  0.2753],\n",
       "          [ 0.1966,  0.2681]])],\n",
       " 'bias': [tensor([-0.3429,  1.5900, -1.9109, -1.2473, -1.2167, -1.3380, -1.2622, -0.0355,\n",
       "          -1.3923, -1.4147]),\n",
       "  tensor([-0.2744,  1.6312, -1.8592, -0.9302, -0.8550, -0.9599, -0.8834,  0.0595,\n",
       "          -0.9968, -1.0190]),\n",
       "  tensor([-0.2058,  1.6723, -1.8074, -0.6132, -0.4933, -0.5818, -0.5046,  0.1545,\n",
       "          -0.6013, -0.6233])],\n",
       " 'output_layer.weight': [tensor([[-2.2963,  1.7111,  2.1499, -0.1965, -0.3802, -0.3724, -0.1595, -0.9873,\n",
       "           -0.3864, -0.3967]]),\n",
       "  tensor([[-2.1836,  1.7591,  2.2904,  0.0850, -0.0737, -0.0440,  0.1695, -0.9079,\n",
       "           -0.0728, -0.0377]]),\n",
       "  tensor([[-2.0710,  1.8071,  2.4309,  0.3665,  0.2327,  0.2843,  0.4985, -0.8284,\n",
       "            0.2408,  0.3214]])],\n",
       " 'output_layer.bias': [tensor([-1.3736]),\n",
       "  tensor([-1.3122]),\n",
       "  tensor([-1.2509])]}"
      ]
     },
     "execution_count": 23,
     "metadata": {},
     "output_type": "execute_result"
    }
   ],
   "source": [
    "\n",
    "guide.quantiles([0.25, 0.5, 0.75])"
   ]
  },
  {
   "cell_type": "code",
   "execution_count": 24,
   "metadata": {},
   "outputs": [],
   "source": [
    "from pyro.infer import Predictive"
   ]
  },
  {
   "cell_type": "code",
   "execution_count": 49,
   "metadata": {},
   "outputs": [],
   "source": [
    "predictive = Predictive(model, guide=guide, num_samples=1000, return_sites=[\"obs\", \"_RETURN\"])"
   ]
  },
  {
   "cell_type": "code",
   "execution_count": 50,
   "metadata": {},
   "outputs": [],
   "source": [
    "res = predictive(x[0:3])"
   ]
  },
  {
   "cell_type": "code",
   "execution_count": 51,
   "metadata": {},
   "outputs": [
    {
     "data": {
      "text/plain": [
       "<matplotlib.collections.PathCollection at 0x7f7b293dfca0>"
      ]
     },
     "execution_count": 51,
     "metadata": {},
     "output_type": "execute_result"
    },
    {
     "data": {
      "image/png": "[encoded data removed]",
      "text/plain": [
       "<Figure size 432x288 with 1 Axes>"
      ]
     },
     "metadata": {
      "needs_background": "light"
     },
     "output_type": "display_data"
    }
   ],
   "source": [
    "plt.scatter(x[0:3, 0], x[0:3, 1])"
   ]
  },
  {
   "cell_type": "code",
   "execution_count": 52,
   "metadata": {},
   "outputs": [
    {
     "data": {
      "text/plain": [
       "tensor([1., 0., 1.])"
      ]
     },
     "execution_count": 52,
     "metadata": {},
     "output_type": "execute_result"
    }
   ],
   "source": [
    "y[0:3]"
   ]
  },
  {
   "cell_type": "code",
   "execution_count": 53,
   "metadata": {},
   "outputs": [
    {
     "data": {
      "text/plain": [
       "torch.Size([1000, 3])"
      ]
     },
     "execution_count": 53,
     "metadata": {},
     "output_type": "execute_result"
    }
   ],
   "source": [
    "res[\"obs\"].shape"
   ]
  },
  {
   "cell_type": "code",
   "execution_count": 54,
   "metadata": {},
   "outputs": [
    {
     "data": {
      "text/plain": [
       "(array([289.,   0.,   0.,   0.,   0.,   0.,   0.,   0.,   0., 711.]),\n",
       " array([0. , 0.1, 0.2, 0.3, 0.4, 0.5, 0.6, 0.7, 0.8, 0.9, 1. ],\n",
       "       dtype=float32),\n",
       " <a list of 10 Patch objects>)"
      ]
     },
     "execution_count": 54,
     "metadata": {},
     "output_type": "execute_result"
    },
    {
     "data": {
      "image/png": "[encoded data removed]",
      "text/plain": [
       "<Figure size 432x288 with 1 Axes>"
      ]
     },
     "metadata": {
      "needs_background": "light"
     },
     "output_type": "display_data"
    }
   ],
   "source": [
    "plt.hist(res[\"obs\"][:, 0])"
   ]
  },
  {
   "cell_type": "code",
   "execution_count": 55,
   "metadata": {},
   "outputs": [],
   "source": [
    "a = np.array([[0., 0.], [-1., 2], [1, -2]]).astype(np.float32)"
   ]
  },
  {
   "cell_type": "code",
   "execution_count": 56,
   "metadata": {},
   "outputs": [],
   "source": [
    "We are tossing a coin, but we do not know if it is a fair coin, we want to establish the head probability (for a fair coin of course θ=0.5).res = predictive(torch.from_numpy(a))"
   ]
  },
  {
   "cell_type": "code",
   "execution_count": 64,
   "metadata": {},
   "outputs": [
    {
     "data": {
      "text/plain": [
       "(array([  1.,   1.,   2.,   1.,   1.,   0.,   4.,   5.,  15., 970.]),\n",
       " array([0.95044816, 0.95540315, 0.96035814, 0.96531314, 0.97026813,\n",
       "        0.9752231 , 0.9801781 , 0.9851331 , 0.9900881 , 0.9950431 ,\n",
       "        0.9999981 ], dtype=float32),\n",
       " <a list of 10 Patch objects>)"
      ]
     },
     "execution_count": 64,
     "metadata": {},
     "output_type": "execute_result"
    },
    {
     "data": {
      "image/png": "[encoded data removed]",
      "text/plain": [
       "<Figure size 432x288 with 1 Axes>"
      ]
     },
     "metadata": {
      "needs_background": "light"
     },
     "output_type": "display_data"
    }
   ],
   "source": [
    "plt.hist(res[\"_RETURN\"][:, 2])"
   ]
  },
  {
   "cell_type": "code",
   "execution_count": 61,
   "metadata": {},
   "outputs": [
    {
     "data": {
      "text/plain": [
       "tensor([0.8352, 0.8490, 0.8012, 0.7917, 0.8438, 0.8103, 0.8382, 0.7790, 0.8090,\n",
       "        0.8413])"
      ]
     },
     "execution_count": 61,
     "metadata": {},
     "output_type": "execute_result"
    }
   ],
   "source": [
    "res[\"_RETURN\"][0:10, 0]"
   ]
  },
  {
   "cell_type": "code",
   "execution_count": null,
   "metadata": {},
   "outputs": [],
   "source": []
  }
 ],
 "metadata": {
  "kernelspec": {
   "display_name": "Python 3",
   "language": "python",
   "name": "python3"
  },
  "language_info": {
   "codemirror_mode": {
    "name": "ipython",
    "version": 3
   },
   "file_extension": ".py",
   "mimetype": "text/x-python",
   "name": "python",
   "nbconvert_exporter": "python",
   "pygments_lexer": "ipython3",
   "version": "3.8.3"
  }
 },
 "nbformat": 4,
 "nbformat_minor": 4
}
