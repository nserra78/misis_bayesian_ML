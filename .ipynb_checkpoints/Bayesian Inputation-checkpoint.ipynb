{
 "cells": [
  {
   "cell_type": "code",
   "execution_count": 2,
   "metadata": {},
   "outputs": [],
   "source": [
    "import numpyro\n",
    "import jax\n",
    "import numpy as np\n",
    "import jax.numpy as jnp\n",
    "from jax import random\n",
    "from jax.random import PRNGKey as KEY\n",
    "from jax.scipy import special as funcs\n",
    "from numpyro import distributions as dist\n",
    "import math"
   ]
  },
  {
   "cell_type": "code",
   "execution_count": 3,
   "metadata": {},
   "outputs": [],
   "source": [
    "import matplotlib.pyplot as plt"
   ]
  },
  {
   "cell_type": "code",
   "execution_count": 4,
   "metadata": {},
   "outputs": [],
   "source": [
    "nsim=20\n",
    "keys = random.split(KEY(13), nsim)"
   ]
  },
  {
   "cell_type": "code",
   "execution_count": 5,
   "metadata": {},
   "outputs": [],
   "source": [
    "import networkx as ntx"
   ]
  },
  {
   "cell_type": "code",
   "execution_count": 6,
   "metadata": {},
   "outputs": [],
   "source": [
    "G = ntx.DiGraph()"
   ]
  },
  {
   "cell_type": "code",
   "execution_count": 7,
   "metadata": {},
   "outputs": [],
   "source": [
    "G.add_edge(\"Z\", \"A\")"
   ]
  },
  {
   "cell_type": "code",
   "execution_count": 8,
   "metadata": {},
   "outputs": [],
   "source": [
    "G.add_node(\"Z\")\n",
    "G.add_node(\"A\")\n",
    "G.add_node(\"B\")\n",
    "G.add_node(\"Y\")"
   ]
  },
  {
   "cell_type": "code",
   "execution_count": 9,
   "metadata": {},
   "outputs": [],
   "source": [
    "G.add_edge(\"Z\", \"A\")\n",
    "G.add_edge(\"Z\", \"B\")\n",
    "G.add_edge(\"B\", \"Y\")\n",
    "G.add_edge(\"A\", \"Y\")"
   ]
  },
  {
   "cell_type": "code",
   "execution_count": 10,
   "metadata": {},
   "outputs": [],
   "source": [
    "pos = {\"Z\":(0., 5.), \"A\":(-0.5, 4), \"B\":(0.5, 4), \"Y\":(0., 3)}\n",
    "color = {\"Z\":\"white\", \"A\":\"gray\", \"B\":\"gray\", \"Y\":\"gray\"}"
   ]
  },
  {
   "cell_type": "code",
   "execution_count": 11,
   "metadata": {},
   "outputs": [
    {
     "data": {
      "image/png": "[encoded data removed]",
      "text/plain": [
       "<Figure size 432x288 with 1 Axes>"
      ]
     },
     "metadata": {},
     "output_type": "display_data"
    }
   ],
   "source": [
    "ntx.draw(G, pos=pos, width=3, arrowsize=50, with_labels=True, node_color=[\"white\", \"lightgray\", \"lightgray\", \"lightgray\"], edgecolors='black',  node_size=2000)"
   ]
  },
  {
   "cell_type": "markdown",
   "metadata": {},
   "source": [
    "### I prepare the dataset"
   ]
  },
  {
   "cell_type": "code",
   "execution_count": 12,
   "metadata": {},
   "outputs": [],
   "source": [
    "N=10000"
   ]
  },
  {
   "cell_type": "code",
   "execution_count": 13,
   "metadata": {},
   "outputs": [],
   "source": [
    "a = 0.25\n",
    "b = 0.25\n",
    "sigma = 0.25"
   ]
  },
  {
   "cell_type": "code",
   "execution_count": 14,
   "metadata": {},
   "outputs": [],
   "source": [
    "Z = random.normal(keys[0], shape=(N, ))\n",
    "A = random.bernoulli(keys[1], p=funcs.expit(Z))\n",
    "B = random.bernoulli(keys[2], p=funcs.expit(Z))\n",
    "mean = a*A+b*B\n",
    "Y = random.normal(keys[3], shape=(N,))*sigma+mean"
   ]
  },
  {
   "cell_type": "code",
   "execution_count": 15,
   "metadata": {},
   "outputs": [],
   "source": [
    "def model(A, B, Y):\n",
    "    \n",
    "    a = numpyro.sample(\"a\", dist.Normal())\n",
    "    b = numpyro.sample(\"b\", dist.Normal())\n",
    "    sigma = numpyro.sample(\"sigma\", dist.HalfNormal())\n",
    "    \n",
    "    with numpyro.plate(\"data\", len(A)):\n",
    "        mean = a*A+b*B\n",
    "        obs = numpyro.sample(\"obs\", dist.Normal(loc=mean, scale=sigma), obs=Y)\n",
    "    \n",
    "    \n",
    "    "
   ]
  },
  {
   "cell_type": "code",
   "execution_count": 16,
   "metadata": {},
   "outputs": [],
   "source": [
    "from numpyro.infer import MCMC, NUTS"
   ]
  },
  {
   "cell_type": "code",
   "execution_count": 17,
   "metadata": {},
   "outputs": [],
   "source": [
    "kernel = NUTS(model)"
   ]
  },
  {
   "cell_type": "code",
   "execution_count": 18,
   "metadata": {},
   "outputs": [],
   "source": [
    "mcmc = MCMC(kernel, num_warmup=1000, num_samples=5000)"
   ]
  },
  {
   "cell_type": "code",
   "execution_count": 19,
   "metadata": {},
   "outputs": [
    {
     "name": "stderr",
     "output_type": "stream",
     "text": [
      "sample: 100%|██████████| 6000/6000 [00:11<00:00, 534.03it/s, 7 steps of size 4.91e-01. acc. prob=0.93] \n"
     ]
    }
   ],
   "source": [
    "mcmc.run(keys[4], A=A, B=B, Y=Y)"
   ]
  },
  {
   "cell_type": "code",
   "execution_count": 20,
   "metadata": {},
   "outputs": [
    {
     "name": "stdout",
     "output_type": "stream",
     "text": [
      "\n",
      "                mean       std    median      5.0%     95.0%     n_eff     r_hat\n",
      "         a      0.25      0.00      0.25      0.25      0.26   3787.46      1.00\n",
      "         b      0.24      0.00      0.24      0.23      0.25   3855.76      1.00\n",
      "     sigma      0.25      0.00      0.25      0.25      0.25   3427.95      1.00\n",
      "\n",
      "Number of divergences: 0\n"
     ]
    }
   ],
   "source": [
    "mcmc.print_summary()"
   ]
  },
  {
   "cell_type": "markdown",
   "metadata": {},
   "source": [
    "### Generating incomplete data"
   ]
  },
  {
   "cell_type": "markdown",
   "metadata": {},
   "source": [
    "- I first generate the a bernoulli variable that is either 0 or 1 \n",
    "- I then mask some values of A\n",
    "- I make a subset of observables only with the observed value of A"
   ]
  },
  {
   "cell_type": "markdown",
   "metadata": {},
   "source": [
    "### Missing depends on the value of Y"
   ]
  },
  {
   "cell_type": "code",
   "execution_count": 115,
   "metadata": {},
   "outputs": [],
   "source": [
    "G.add_node(\"M\")\n",
    "G.add_edge(\"Y\", \"M\")"
   ]
  },
  {
   "cell_type": "code",
   "execution_count": 116,
   "metadata": {},
   "outputs": [],
   "source": [
    "pos = {\"Z\":(0., 5.), \"A\":(-0.5, 4), \"B\":(0.5, 4), \"Y\":(0., 3), \"M\":(0.5, 3.)}\n",
    "color = {\"Z\":\"white\", \"A\":\"gray\", \"B\":\"gray\", \"Y\":\"gray\", \"M\":\"white\"}"
   ]
  },
  {
   "cell_type": "code",
   "execution_count": 117,
   "metadata": {},
   "outputs": [
    {
     "data": {
      "image/png": "[encoded data removed]",
      "text/plain": [
       "<Figure size 432x288 with 1 Axes>"
      ]
     },
     "metadata": {},
     "output_type": "display_data"
    }
   ],
   "source": [
    "ntx.draw(G, pos=pos, width=3, arrowsize=50, with_labels=True, node_color=[\"white\", \"lightgray\", \"lightgray\", \"lightgray\", \"lightgray\"], edgecolors='black',  node_size=2000)"
   ]
  },
  {
   "cell_type": "markdown",
   "metadata": {},
   "source": [
    "The fact that A is observed or not depends on Y"
   ]
  },
  {
   "cell_type": "code",
   "execution_count": 118,
   "metadata": {},
   "outputs": [
    {
     "data": {
      "text/plain": [
       "Text(0.5, 0, 'p')"
      ]
     },
     "execution_count": 118,
     "metadata": {},
     "output_type": "execute_result"
    },
    {
     "data": {
      "image/png": "[encoded data removed]",
      "text/plain": [
       "<Figure size 432x288 with 1 Axes>"
      ]
     },
     "metadata": {
      "needs_background": "light"
     },
     "output_type": "display_data"
    }
   ],
   "source": [
    "plt.hist(funcs.expit((Y-0.5)*5.), bins=20, density=1, alpha=0.5)\n",
    "plt.title(r\"$exp{(Y-0.5)\\times3}$\")\n",
    "plt.xlabel(\"p\")\n"
   ]
  },
  {
   "cell_type": "code",
   "execution_count": 119,
   "metadata": {},
   "outputs": [],
   "source": [
    "Ais_obs = random.bernoulli(keys[6], funcs.expit((Y-0.5)*5.))"
   ]
  },
  {
   "cell_type": "code",
   "execution_count": 120,
   "metadata": {},
   "outputs": [
    {
     "data": {
      "text/plain": [
       "<matplotlib.collections.PathCollection at 0x7fe0e42519d0>"
      ]
     },
     "execution_count": 120,
     "metadata": {},
     "output_type": "execute_result"
    },
    {
     "data": {
      "image/png": "[encoded data removed]",
      "text/plain": [
       "<Figure size 432x288 with 1 Axes>"
      ]
     },
     "metadata": {
      "needs_background": "light"
     },
     "output_type": "display_data"
    }
   ],
   "source": [
    "plt.scatter(Ais_obs, Y)"
   ]
  },
  {
   "cell_type": "code",
   "execution_count": 121,
   "metadata": {},
   "outputs": [],
   "source": [
    "Am =jnp.where(Ais_obs, A, -1)"
   ]
  },
  {
   "cell_type": "code",
   "execution_count": 122,
   "metadata": {},
   "outputs": [],
   "source": [
    "indx = jnp.where(Ais_obs)[0]"
   ]
  },
  {
   "cell_type": "code",
   "execution_count": 123,
   "metadata": {},
   "outputs": [],
   "source": [
    "Acc = A[indx]\n",
    "Bcc = B[indx]\n",
    "Ycc = Y[indx]"
   ]
  },
  {
   "cell_type": "code",
   "execution_count": 124,
   "metadata": {},
   "outputs": [
    {
     "data": {
      "text/plain": [
       "((2927,), (2927,), (2927,))"
      ]
     },
     "execution_count": 124,
     "metadata": {},
     "output_type": "execute_result"
    }
   ],
   "source": [
    "Acc.shape, Bcc.shape, Ycc.shape"
   ]
  },
  {
   "cell_type": "markdown",
   "metadata": {},
   "source": [
    "### Doing inference with the incomplete dataset"
   ]
  },
  {
   "cell_type": "code",
   "execution_count": 125,
   "metadata": {},
   "outputs": [
    {
     "name": "stderr",
     "output_type": "stream",
     "text": [
      "sample: 100%|██████████| 6000/6000 [00:10<00:00, 559.83it/s, 7 steps of size 5.10e-01. acc. prob=0.92] \n"
     ]
    }
   ],
   "source": [
    "mcmc.run(keys[6], A=Acc, B=Bcc, Y=Ycc)"
   ]
  },
  {
   "cell_type": "code",
   "execution_count": 126,
   "metadata": {},
   "outputs": [
    {
     "name": "stdout",
     "output_type": "stream",
     "text": [
      "\n",
      "                mean       std    median      5.0%     95.0%     n_eff     r_hat\n",
      "         a      0.35      0.01      0.35      0.33      0.36   2823.65      1.00\n",
      "         b      0.31      0.01      0.31      0.30      0.32   2710.21      1.00\n",
      "     sigma      0.24      0.00      0.24      0.24      0.25   3560.22      1.00\n",
      "\n",
      "Number of divergences: 0\n"
     ]
    }
   ],
   "source": [
    "mcmc.print_summary()"
   ]
  },
  {
   "cell_type": "code",
   "execution_count": null,
   "metadata": {},
   "outputs": [],
   "source": []
  }
 ],
 "metadata": {
  "kernelspec": {
   "display_name": "Python3 (tf2-gpu)",
   "language": "python",
   "name": "tf2-gpu"
  },
  "language_info": {
   "codemirror_mode": {
    "name": "ipython",
    "version": 3
   },
   "file_extension": ".py",
   "mimetype": "text/x-python",
   "name": "python",
   "nbconvert_exporter": "python",
   "pygments_lexer": "ipython3",
   "version": "3.8.3"
  }
 },
 "nbformat": 4,
 "nbformat_minor": 4
}
